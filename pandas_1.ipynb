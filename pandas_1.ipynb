{
 "cells": [
  {
   "cell_type": "markdown",
   "id": "0c95c16e",
   "metadata": {},
   "source": [
    "## Pandas\n"
   ]
  },
  {
   "cell_type": "markdown",
   "id": "1c7beab9",
   "metadata": {},
   "source": [
    "It is a library. it is fast,powerful,flexible and eay to use open source data analayis and manipulation tool,built\n",
    "on top of the pythonprogramming language."
   ]
  },
  {
   "cell_type": "markdown",
   "id": "a1e4ac83",
   "metadata": {},
   "source": [
    "#Types of object in pandas \n",
    "-Pandas series\n",
    "-pandas dataframe "
   ]
  },
  {
   "cell_type": "markdown",
   "id": "b4051eed",
   "metadata": {},
   "source": [
    "# Pandas series\n",
    "\n",
    "It is like a column in a table. It is  a 1-D array holding data of any type.\n"
   ]
  },
  {
   "cell_type": "markdown",
   "id": "36d73908",
   "metadata": {},
   "source": [
    "# Importing Pandas"
   ]
  },
  {
   "cell_type": "code",
   "execution_count": 2,
   "id": "8dcbf1ba",
   "metadata": {},
   "outputs": [],
   "source": [
    "import pandas as pd\n",
    "import numpy as np"
   ]
  },
  {
   "cell_type": "markdown",
   "id": "3ef0fb6d",
   "metadata": {},
   "source": [
    "# Series from list"
   ]
  },
  {
   "cell_type": "code",
   "execution_count": 3,
   "id": "93ca995e",
   "metadata": {},
   "outputs": [
    {
     "data": {
      "text/plain": [
       "0       India\n",
       "1    Pakistan\n",
       "2         USA\n",
       "3       Nepal\n",
       "4    Srilanka\n",
       "dtype: object"
      ]
     },
     "execution_count": 3,
     "metadata": {},
     "output_type": "execute_result"
    }
   ],
   "source": [
    "#String\n",
    "\n",
    "country =['India','Pakistan','USA','Nepal','Srilanka']\n",
    "\n",
    "pd.Series(country)"
   ]
  },
  {
   "cell_type": "code",
   "execution_count": 20,
   "id": "1182aef5",
   "metadata": {},
   "outputs": [
    {
     "data": {
      "text/plain": [
       "0     13\n",
       "1     24\n",
       "2     56\n",
       "3     78\n",
       "4    100\n",
       "dtype: int64"
      ]
     },
     "execution_count": 20,
     "metadata": {},
     "output_type": "execute_result"
    }
   ],
   "source": [
    "#Integer\n",
    "runs = [ 13,24,56,78,100]\n",
    "runs_series= pd.Series(runs)\n",
    "runs_series"
   ]
  },
  {
   "cell_type": "code",
   "execution_count": 5,
   "id": "15d7595a",
   "metadata": {},
   "outputs": [
    {
     "data": {
      "text/plain": [
       "English      67\n",
       "Maths        54\n",
       "Physics      67\n",
       "Chemistry    34\n",
       "Hindi        91\n",
       "dtype: int64"
      ]
     },
     "execution_count": 5,
     "metadata": {},
     "output_type": "execute_result"
    }
   ],
   "source": [
    "# custom index\n",
    "marks = [67,54,67,34,91]\n",
    "subject = ['English','Maths','Physics','Chemistry','Hindi']\n",
    "pd.Series(marks,index=subject)"
   ]
  },
  {
   "cell_type": "code",
   "execution_count": 8,
   "id": "585f6d43",
   "metadata": {},
   "outputs": [
    {
     "data": {
      "text/plain": [
       "English      67\n",
       "Maths        54\n",
       "Physics      67\n",
       "Chemistry    34\n",
       "Hindi        91\n",
       "Name: Nandini_Scores, dtype: int64"
      ]
     },
     "execution_count": 8,
     "metadata": {},
     "output_type": "execute_result"
    }
   ],
   "source": [
    "#setting a name\n",
    "\n",
    "score = pd.Series(marks,index=subject,name='Nandini_Scores')\n",
    "\n",
    "score"
   ]
  },
  {
   "cell_type": "code",
   "execution_count": 9,
   "id": "3181e04c",
   "metadata": {},
   "outputs": [
    {
     "data": {
      "text/plain": [
       "English      67\n",
       "Maths        54\n",
       "Physics      67\n",
       "Chemistry    34\n",
       "Hindi        91\n",
       "Name: Nandini ke marks, dtype: int64"
      ]
     },
     "execution_count": 9,
     "metadata": {},
     "output_type": "execute_result"
    }
   ],
   "source": [
    "#Seies from dict\n",
    "marks = {\n",
    "    'English':67,\n",
    "    'Maths':54,\n",
    "    'Physics':67,\n",
    "    'Chemistry':34,\n",
    "    'Hindi':91\n",
    "}\n",
    "score_series = pd.Series(marks,name =\"Nandini ke marks\")\n",
    "score_series    \n"
   ]
  },
  {
   "cell_type": "markdown",
   "id": "e20e6bf6",
   "metadata": {},
   "source": [
    "#### Series Attributes\n"
   ]
  },
  {
   "cell_type": "code",
   "execution_count": 10,
   "id": "bcb9bec2",
   "metadata": {},
   "outputs": [
    {
     "data": {
      "text/plain": [
       "5"
      ]
     },
     "execution_count": 10,
     "metadata": {},
     "output_type": "execute_result"
    }
   ],
   "source": [
    "#size - kitne items ya value h\n",
    "\n",
    "score_series.size"
   ]
  },
  {
   "cell_type": "code",
   "execution_count": 11,
   "id": "16adb03a",
   "metadata": {},
   "outputs": [
    {
     "data": {
      "text/plain": [
       "dtype('int64')"
      ]
     },
     "execution_count": 11,
     "metadata": {},
     "output_type": "execute_result"
    }
   ],
   "source": [
    "#dtype-items ka datatype\n",
    "score_series.dtype"
   ]
  },
  {
   "cell_type": "code",
   "execution_count": 12,
   "id": "32a997eb",
   "metadata": {},
   "outputs": [
    {
     "data": {
      "text/plain": [
       "'Nandini ke marks'"
      ]
     },
     "execution_count": 12,
     "metadata": {},
     "output_type": "execute_result"
    }
   ],
   "source": [
    "#name\n",
    "score_series.name"
   ]
  },
  {
   "cell_type": "code",
   "execution_count": 13,
   "id": "085041ab",
   "metadata": {},
   "outputs": [
    {
     "data": {
      "text/plain": [
       "False"
      ]
     },
     "execution_count": 13,
     "metadata": {},
     "output_type": "execute_result"
    }
   ],
   "source": [
    "#is_unique- unique data itmes h ya nhi, hai to 'TRUE' nhi to 'Flase'\n",
    "score_series.is_unique"
   ]
  },
  {
   "cell_type": "code",
   "execution_count": 17,
   "id": "f350bc1f",
   "metadata": {},
   "outputs": [
    {
     "data": {
      "text/plain": [
       "Index(['English', 'Maths', 'Physics', 'Chemistry', 'Hindi'], dtype='object')"
      ]
     },
     "execution_count": 17,
     "metadata": {},
     "output_type": "execute_result"
    }
   ],
   "source": [
    "#index\n",
    "score_series.index\n"
   ]
  },
  {
   "cell_type": "code",
   "execution_count": 21,
   "id": "4e8db01a",
   "metadata": {},
   "outputs": [
    {
     "data": {
      "text/plain": [
       "RangeIndex(start=0, stop=5, step=1)"
      ]
     },
     "execution_count": 21,
     "metadata": {},
     "output_type": "execute_result"
    }
   ],
   "source": [
    "runs_series.index"
   ]
  },
  {
   "cell_type": "code",
   "execution_count": 23,
   "id": "d244b486",
   "metadata": {},
   "outputs": [
    {
     "data": {
      "text/plain": [
       "array([67, 54, 67, 34, 91], dtype=int64)"
      ]
     },
     "execution_count": 23,
     "metadata": {},
     "output_type": "execute_result"
    }
   ],
   "source": [
    "#value--> VALUES\n",
    "score_series.values"
   ]
  },
  {
   "cell_type": "code",
   "execution_count": null,
   "id": "2342e947",
   "metadata": {},
   "outputs": [],
   "source": [
    "#seires using read_csv"
   ]
  }
 ],
 "metadata": {
  "kernelspec": {
   "display_name": "Python 3 (ipykernel)",
   "language": "python",
   "name": "python3"
  },
  "language_info": {
   "codemirror_mode": {
    "name": "ipython",
    "version": 3
   },
   "file_extension": ".py",
   "mimetype": "text/x-python",
   "name": "python",
   "nbconvert_exporter": "python",
   "pygments_lexer": "ipython3",
   "version": "3.11.4"
  }
 },
 "nbformat": 4,
 "nbformat_minor": 5
}
